{
 "cells": [
  {
   "cell_type": "code",
   "execution_count": 14,
   "metadata": {},
   "outputs": [],
   "source": [
    "import pandas as pd\n",
    "import numpy as np\n",
    "import matplotlib.pyplot as plt\n",
    "%matplotlib inline\n",
    "plt.rcParams[\"figure.figsize\"] = (10,5)"
   ]
  },
  {
   "cell_type": "code",
   "execution_count": 2,
   "metadata": {},
   "outputs": [],
   "source": [
    "# Importing data from CSV file\n",
    "df = pd.read_csv(\"220511_monatszahlenmonatszahlen2204_verkehrsunfaelle.csv\")\n",
    "\n",
    "#Dropping data having date after 2020\n",
    "df = df[df.JAHR <= 2020]"
   ]
  },
  {
   "cell_type": "code",
   "execution_count": 3,
   "metadata": {},
   "outputs": [
    {
     "data": {
      "text/html": [
       "<div>\n",
       "<style scoped>\n",
       "    .dataframe tbody tr th:only-of-type {\n",
       "        vertical-align: middle;\n",
       "    }\n",
       "\n",
       "    .dataframe tbody tr th {\n",
       "        vertical-align: top;\n",
       "    }\n",
       "\n",
       "    .dataframe thead th {\n",
       "        text-align: right;\n",
       "    }\n",
       "</style>\n",
       "<table border=\"1\" class=\"dataframe\">\n",
       "  <thead>\n",
       "    <tr style=\"text-align: right;\">\n",
       "      <th></th>\n",
       "      <th>index</th>\n",
       "      <th>Null_Count</th>\n",
       "    </tr>\n",
       "  </thead>\n",
       "  <tbody>\n",
       "    <tr>\n",
       "      <th>0</th>\n",
       "      <td>MONATSZAHL</td>\n",
       "      <td>0</td>\n",
       "    </tr>\n",
       "    <tr>\n",
       "      <th>1</th>\n",
       "      <td>AUSPRAEGUNG</td>\n",
       "      <td>0</td>\n",
       "    </tr>\n",
       "    <tr>\n",
       "      <th>2</th>\n",
       "      <td>JAHR</td>\n",
       "      <td>0</td>\n",
       "    </tr>\n",
       "    <tr>\n",
       "      <th>3</th>\n",
       "      <td>MONAT</td>\n",
       "      <td>0</td>\n",
       "    </tr>\n",
       "    <tr>\n",
       "      <th>4</th>\n",
       "      <td>WERT</td>\n",
       "      <td>0</td>\n",
       "    </tr>\n",
       "    <tr>\n",
       "      <th>5</th>\n",
       "      <td>VORJAHRESWERT</td>\n",
       "      <td>91</td>\n",
       "    </tr>\n",
       "    <tr>\n",
       "      <th>6</th>\n",
       "      <td>VERAEND_VORMONAT_PROZENT</td>\n",
       "      <td>155</td>\n",
       "    </tr>\n",
       "    <tr>\n",
       "      <th>7</th>\n",
       "      <td>VERAEND_VORJAHRESMONAT_PROZENT</td>\n",
       "      <td>92</td>\n",
       "    </tr>\n",
       "    <tr>\n",
       "      <th>8</th>\n",
       "      <td>ZWOELF_MONATE_MITTELWERT</td>\n",
       "      <td>147</td>\n",
       "    </tr>\n",
       "  </tbody>\n",
       "</table>\n",
       "</div>"
      ],
      "text/plain": [
       "                            index  Null_Count\n",
       "0                      MONATSZAHL           0\n",
       "1                     AUSPRAEGUNG           0\n",
       "2                            JAHR           0\n",
       "3                           MONAT           0\n",
       "4                            WERT           0\n",
       "5                   VORJAHRESWERT          91\n",
       "6        VERAEND_VORMONAT_PROZENT         155\n",
       "7  VERAEND_VORJAHRESMONAT_PROZENT          92\n",
       "8        ZWOELF_MONATE_MITTELWERT         147"
      ]
     },
     "execution_count": 3,
     "metadata": {},
     "output_type": "execute_result"
    }
   ],
   "source": [
    "#Count of NAN values in each column\n",
    "df.isnull().sum().reset_index(name='Null_Count')"
   ]
  },
  {
   "cell_type": "code",
   "execution_count": 4,
   "metadata": {},
   "outputs": [
    {
     "data": {
      "text/plain": [
       "array(['Summe', '202001', '202002', '202003', '202004', '202005',\n",
       "       '202006', '202007', '202008', '202009', '202010', '202011',\n",
       "       '202012', '201901', '201902', '201903', '201904', '201905',\n",
       "       '201906', '201907', '201908', '201909', '201910', '201911',\n",
       "       '201912', '201801', '201802', '201803', '201804', '201805',\n",
       "       '201806', '201807', '201808', '201809', '201810', '201811',\n",
       "       '201812', '201701', '201702', '201703', '201704', '201705',\n",
       "       '201706', '201707', '201708', '201709', '201710', '201711',\n",
       "       '201712', '201601', '201602', '201603', '201604', '201605',\n",
       "       '201606', '201607', '201608', '201609', '201610', '201611',\n",
       "       '201612', '201501', '201502', '201503', '201504', '201505',\n",
       "       '201506', '201507', '201508', '201509', '201510', '201511',\n",
       "       '201512', '201401', '201402', '201403', '201404', '201405',\n",
       "       '201406', '201407', '201408', '201409', '201410', '201411',\n",
       "       '201412', '201301', '201302', '201303', '201304', '201305',\n",
       "       '201306', '201307', '201308', '201309', '201310', '201311',\n",
       "       '201312', '201201', '201202', '201203', '201204', '201205',\n",
       "       '201206', '201207', '201208', '201209', '201210', '201211',\n",
       "       '201212', '201101', '201102', '201103', '201104', '201105',\n",
       "       '201106', '201107', '201108', '201109', '201110', '201111',\n",
       "       '201112', '201001', '201002', '201003', '201004', '201005',\n",
       "       '201006', '201007', '201008', '201009', '201010', '201011',\n",
       "       '201012', '200901', '200902', '200903', '200904', '200905',\n",
       "       '200906', '200907', '200908', '200909', '200910', '200911',\n",
       "       '200912', '200801', '200802', '200803', '200804', '200805',\n",
       "       '200806', '200807', '200808', '200809', '200810', '200811',\n",
       "       '200812', '200701', '200702', '200703', '200704', '200705',\n",
       "       '200706', '200707', '200708', '200709', '200710', '200711',\n",
       "       '200712', '200601', '200602', '200603', '200604', '200605',\n",
       "       '200606', '200607', '200608', '200609', '200610', '200611',\n",
       "       '200612', '200501', '200502', '200503', '200504', '200505',\n",
       "       '200506', '200507', '200508', '200509', '200510', '200511',\n",
       "       '200512', '200401', '200402', '200403', '200404', '200405',\n",
       "       '200406', '200407', '200408', '200409', '200410', '200411',\n",
       "       '200412', '200301', '200302', '200303', '200304', '200305',\n",
       "       '200306', '200307', '200308', '200309', '200310', '200311',\n",
       "       '200312', '200201', '200202', '200203', '200204', '200205',\n",
       "       '200206', '200207', '200208', '200209', '200210', '200211',\n",
       "       '200212', '200101', '200102', '200103', '200104', '200105',\n",
       "       '200106', '200107', '200108', '200109', '200110', '200111',\n",
       "       '200112', '200001', '200002', '200003', '200004', '200005',\n",
       "       '200006', '200007', '200008', '200009', '200010', '200011',\n",
       "       '200012'], dtype=object)"
      ]
     },
     "execution_count": 4,
     "metadata": {},
     "output_type": "execute_result"
    }
   ],
   "source": [
    "df.MONAT.unique()"
   ]
  },
  {
   "cell_type": "code",
   "execution_count": 5,
   "metadata": {},
   "outputs": [],
   "source": [
    "# as observed in column  MONAT has a variable 'Summe' which reapeates after every 12 months. Thus making two separate dataframe.\n",
    "#  - one with yearly data\n",
    "#  - one with monthly data.\n",
    "\n",
    "\n",
    "df_monthly = df[df.MONAT != 'Summe']\n",
    "df_yearly = df[df.MONAT == 'Summe']\n",
    "\n",
    "#resetting index\n",
    "\n",
    "df_monthly.reset_index(drop=True, inplace=True)\n",
    "df_yearly.reset_index(drop=True, inplace=True)"
   ]
  },
  {
   "cell_type": "code",
   "execution_count": 6,
   "metadata": {},
   "outputs": [],
   "source": [
    "temp = df_monthly.groupby(['MONATSZAHL','JAHR'])['WERT'].sum().reset_index(name='wert')"
   ]
  },
  {
   "cell_type": "markdown",
   "metadata": {},
   "source": [
    "# Plot historical data."
   ]
  },
  {
   "cell_type": "code",
   "execution_count": 7,
   "metadata": {},
   "outputs": [],
   "source": [
    "h_df = temp.pivot(index='JAHR', columns='MONATSZAHL', values='wert')"
   ]
  },
  {
   "cell_type": "code",
   "execution_count": 8,
   "metadata": {},
   "outputs": [],
   "source": [
    "h_df.reset_index(inplace=True)"
   ]
  },
  {
   "cell_type": "code",
   "execution_count": 15,
   "metadata": {},
   "outputs": [
    {
     "data": {
      "image/png": "[encoded data removed]",
      "text/plain": [
       "<Figure size 1000x500 with 1 Axes>"
      ]
     },
     "metadata": {},
     "output_type": "display_data"
    }
   ],
   "source": [
    "\n",
    "\n",
    "\n",
    "ax = h_df.plot(x='JAHR', y ='Verkehrsunfälle', kind='bar')   #Verkehrsunfälle\n",
    "h_df.plot(x='JAHR', y ='Fluchtunfälle', kind='bar',ax=ax, color='C3')\n",
    "h_df.plot(x='JAHR', y ='Alkoholunfälle', kind='bar',ax=ax, color='C4')\n",
    "\n",
    "\n",
    "plt.show() "
   ]
  },
  {
   "cell_type": "code",
   "execution_count": null,
   "metadata": {},
   "outputs": [],
   "source": []
  }
 ],
 "metadata": {
  "kernelspec": {
   "display_name": "Python 3.9.13 ('dsp')",
   "language": "python",
   "name": "python3"
  },
  "language_info": {
   "codemirror_mode": {
    "name": "ipython",
    "version": 3
   },
   "file_extension": ".py",
   "mimetype": "text/x-python",
   "name": "python",
   "nbconvert_exporter": "python",
   "pygments_lexer": "ipython3",
   "version": "3.9.13"
  },
  "orig_nbformat": 4,
  "vscode": {
   "interpreter": {
    "hash": "72495052127662e0edbd730d678210899a34c708a46385275d9b011e942f4ab4"
   }
  }
 },
 "nbformat": 4,
 "nbformat_minor": 2
}
